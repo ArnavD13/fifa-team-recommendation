{
  "nbformat": 4,
  "nbformat_minor": 0,
  "metadata": {
    "colab": {
      "provenance": []
    },
    "kernelspec": {
      "name": "python3",
      "display_name": "Python 3"
    },
    "language_info": {
      "name": "python"
    }
  },
  "cells": [
    {
      "cell_type": "markdown",
      "source": [
        " # Preprocessing\n"
      ],
      "metadata": {
        "id": "YAVoaMOUlXI2"
      }
    },
    {
      "cell_type": "code",
      "execution_count": null,
      "metadata": {
        "colab": {
          "base_uri": "https://localhost:8080/"
        },
        "id": "KjgGzZsTlSUy",
        "outputId": "a4494c59-551d-4ef5-989b-0f6f25e34c58"
      },
      "outputs": [
        {
          "output_type": "stream",
          "name": "stdout",
          "text": [
            "✅ Preprocessing complete. Data saved as 'processed_kl.csv'\n"
          ]
        }
      ],
      "source": [
        "import pandas as pd\n",
        "from sklearn.preprocessing import StandardScaler, LabelEncoder\n",
        "\n",
        "# Load dataset\n",
        "df = pd.read_csv('kl.csv', encoding='ISO-8859-1')\n",
        "\n",
        "# Drop irrelevant or highly null columns\n",
        "df.dropna(thresh=len(df) * 0.7, axis=1, inplace=True)  # drop columns with >30% missing\n",
        "\n",
        "# Fill or drop remaining nulls\n",
        "df.fillna(df.median(numeric_only=True), inplace=True)\n",
        "\n",
        "# Encode categorical features\n",
        "#le = LabelEncoder()\n",
        "#if 'position' in df.columns:\n",
        "#  df['position'] = le.fit_transform(df['position'].astype(str))\n",
        "\n",
        "# Scale numeric features\n",
        "#numeric_cols = df.select_dtypes(include='number').columns\n",
        "#scaler = StandardScaler()\n",
        "#df[numeric_cols] = scaler.fit_transform(df[numeric_cols])\n",
        "\n",
        "# Save processed version\n",
        "df.to_csv('processed_kl.csv', index=False)\n",
        "print(\"✅ Preprocessing complete. Data saved as 'processed_kl.csv'\")\n"
      ]
    },
    {
      "cell_type": "code",
      "source": [
        "import pandas as pd\n",
        "import numpy as np\n",
        "from sklearn.preprocessing import LabelEncoder, StandardScaler\n",
        "\n",
        "def preprocess_dataset(path=\"kl.csv\"):\n",
        "    df = pd.read_csv(path, encoding='ISO-8859-1')\n",
        "\n",
        "    # Drop columns with too many missing values\n",
        "    df.dropna(thresh=int(0.9 * df.shape[1]), inplace=True)\n",
        "    df.fillna(df.median(numeric_only=True), inplace=True)\n",
        "\n",
        "    # Encode important categorical columns\n",
        "    for col in ['Preferred Foot', 'Work Rate', 'Position']:\n",
        "        if col in df.columns:\n",
        "            df[col] = LabelEncoder().fit_transform(df[col].astype(str))\n",
        "\n",
        "    return df\n"
      ],
      "metadata": {
        "id": "iYJsf6bIln4h"
      },
      "execution_count": null,
      "outputs": []
    },
    {
      "cell_type": "markdown",
      "source": [
        "# Predict Player's Overall Rating (Regression)"
      ],
      "metadata": {
        "id": "XknPKDnhmrb2"
      }
    },
    {
      "cell_type": "code",
      "source": [
        "import numpy as np\n",
        "import pandas as pd\n",
        "from sklearn.linear_model import LinearRegression, Ridge, Lasso\n",
        "from sklearn.ensemble import RandomForestRegressor\n",
        "from sklearn.preprocessing import StandardScaler\n",
        "from sklearn.model_selection import train_test_split\n",
        "from sklearn.metrics import mean_squared_error, r2_score\n",
        "\n",
        "# Assuming preprocess_dataset() is already defined and returns a DataFrame\n",
        "df = preprocess_dataset()\n",
        "\n",
        "# Feature and target selection\n",
        "X = df.select_dtypes(include=[np.number]).drop(columns=['Overall'], errors='ignore')\n",
        "y = df['Overall']\n",
        "\n",
        "# Train-test split\n",
        "X_train, X_test, y_train, y_test = train_test_split(X, y, test_size=0.2, random_state=42)\n",
        "\n",
        "# Scaling features\n",
        "scaler = StandardScaler()\n",
        "X_train_scaled = scaler.fit_transform(X_train)\n",
        "X_test_scaled = scaler.transform(X_test)\n",
        "\n",
        "# Define models\n",
        "models = {\n",
        "    'Linear Regression': LinearRegression(),\n",
        "    'Ridge Regression': Ridge(alpha=1.0),\n",
        "    'Lasso Regression': Lasso(alpha=0.1),\n",
        "    'Random Forest': RandomForestRegressor(n_estimators=100, random_state=42)\n",
        "}\n",
        "\n",
        "# Store results\n",
        "results = {}\n",
        "\n",
        "# Train, predict, and evaluate each model\n",
        "for name, model in models.items():\n",
        "    model.fit(X_train_scaled, y_train)\n",
        "    y_pred = model.predict(X_test_scaled)\n",
        "    rmse = np.sqrt(mean_squared_error(y_test, y_pred))\n",
        "    r2 = r2_score(y_test, y_pred)\n",
        "    results[name] = {'RMSE': rmse, 'R² Score': r2}\n",
        "\n",
        "# Display results\n",
        "print(\"📊 Comparison of Regression Models:\")\n",
        "results_df = pd.DataFrame(results).T\n",
        "print(results_df)"
      ],
      "metadata": {
        "colab": {
          "base_uri": "https://localhost:8080/"
        },
        "id": "HfECRay9mwBS",
        "outputId": "8cd0ea9a-a98b-4a8a-f29d-dedea4c1e297"
      },
      "execution_count": null,
      "outputs": [
        {
          "output_type": "stream",
          "name": "stdout",
          "text": [
            "📊 Comparison of Regression Models:\n",
            "                       RMSE  R² Score\n",
            "Linear Regression  1.159206  0.971194\n",
            "Ridge Regression   1.157852  0.971261\n",
            "Lasso Regression   1.231444  0.967492\n",
            "Random Forest      0.055156  0.999935\n"
          ]
        }
      ]
    },
    {
      "cell_type": "code",
      "source": [
        "from sklearn.model_selection import train_test_split\n",
        "from sklearn.linear_model import LinearRegression\n",
        "import pandas as pd\n",
        "\n",
        "# Load dataset\n",
        "df = pd.read_csv('processed_kl.csv')\n",
        "\n",
        "# Drop non-numeric features and keep name\n",
        "df = df.select_dtypes(include=[np.number]).join(df['Name'])\n",
        "\n",
        "# Separate features and target\n",
        "X = df.drop(columns=['Overall', 'Name'])\n",
        "y = df['Overall']\n",
        "names = df['Name']\n",
        "\n",
        "# Train/test split\n",
        "X_train, X_test, y_train, y_test, name_train, name_test = train_test_split(\n",
        "    X, y, names, test_size=0.2, random_state=42\n",
        ")\n",
        "\n",
        "# Train linear regression model\n",
        "model = LinearRegression()\n",
        "model.fit(X_train, y_train)\n",
        "\n",
        "# Predict\n",
        "predictions = model.predict(X_test)\n",
        "\n",
        "# Results\n",
        "results = pd.DataFrame({\n",
        "    'Player Name': name_test.values,\n",
        "    'Actual Rating': y_test.values,\n",
        "    'Predicted Rating': predictions.round(1)\n",
        "})\n",
        "\n",
        "# Sort by Predicted Rating (highest first)\n",
        "results = results.sort_values(by='Predicted Rating', ascending=False)\n",
        "\n",
        "# Show top 10 results\n",
        "print(results.head(10).to_string(index=False))\n",
        "\n",
        "# Search functionality\n",
        "search_name = input(\"\\n🔍 Enter a player's name to view their rating: \").strip()\n",
        "\n",
        "# Case-insensitive search\n",
        "search_results = results[results['Player Name'].str.lower() == search_name.lower()]\n",
        "\n",
        "if not search_results.empty:\n",
        "    print(\"\\n✅ Player found:\")\n",
        "    print(search_results.to_string(index=False))\n",
        "else:\n",
        "    print(\"\\n❌ Player not found in test data.\")"
      ],
      "metadata": {
        "colab": {
          "base_uri": "https://localhost:8080/"
        },
        "id": "AUYs0irgm5OQ",
        "outputId": "19b27453-a9c7-41ea-ad47-823af27e5d80"
      },
      "execution_count": null,
      "outputs": [
        {
          "output_type": "stream",
          "name": "stdout",
          "text": [
            " Player Name  Actual Rating  Predicted Rating\n",
            "    L. Messi           94.0              88.1\n",
            "      De Gea           91.0              86.9\n",
            "Sergio Ramos           91.0              86.0\n",
            "     Marcelo           88.0              85.4\n",
            "   G. Buffon           88.0              85.0\n",
            " T. Courtois           89.0              84.6\n",
            "  M. Hummels           88.0              84.4\n",
            "       Piqué           87.0              84.3\n",
            "    D. Alaba           85.0              83.7\n",
            "  C. Eriksen           88.0              83.6\n",
            "\n",
            "🔍 Enter a player's name to view their rating: Lato\n",
            "\n",
            "✅ Player found:\n",
            "Player Name  Actual Rating  Predicted Rating\n",
            "       Lato           74.0              74.2\n"
          ]
        }
      ]
    },
    {
      "cell_type": "markdown",
      "source": [
        "# Top Talent Identification with Position-Based Classification"
      ],
      "metadata": {
        "id": "ziIxiDNfr4Q1"
      }
    },
    {
      "cell_type": "code",
      "source": [
        "# Position code mapping\n",
        "position_number_to_code = {\n",
        "    20: 'RF',  # Right Forward\n",
        "    25: 'ST',  # Striker\n",
        "    13: 'LW',  # Left Winger\n",
        "    18: 'RCM',  # Right Central Midfielder\n",
        "    10: 'LF',  # Left Forward\n",
        "    22: 'RS',  # Right Striker\n",
        "    17: 'RCB',  # Right (off-centre) Centre Back\n",
        "    8: 'LCM',  # Left Central Midfielder\n",
        "    1: 'CB',  # Center Back\n",
        "    9: 'LDM',  # Left Defensive Midfielder\n",
        "    0: 'CAM',  # Central Attacking Midfielder\n",
        "    2: 'CDM',  # Central Defensive Midfielder\n",
        "    12: 'LS',  # Left Striker\n",
        "    7: 'LCB',  # Left (off-centre) Centre Back\n",
        "    21: 'RM',  # Right Midfielder\n",
        "    5: 'LAM',  # Left Attacking Midfielder\n",
        "    11: 'LM',  # Left Midfielder\n",
        "    6: 'LB',  # Left Back\n",
        "    19: 'RDM',  # Right Defensive Midfielder\n",
        "    23: 'RW',  # Right Winger\n",
        "    4: 'CM',  # Central Midfielder\n",
        "    16: 'RB',  # Right Back\n",
        "}\n",
        "position_code_to_name = {\n",
        "    'GK': 'Goalkeeper',\n",
        "    'RB': 'Right Back',\n",
        "    'LB': 'Left Back',\n",
        "    'CB': 'Center Back',\n",
        "    'RCB': 'Right Center Back',\n",
        "    'LCB': 'Left Center Back',\n",
        "    'CDM': 'Central Defensive Midfielder',\n",
        "    'LDM': 'Left Defensive Midfielder',\n",
        "    'RDM': 'Right Defensive Midfielder',\n",
        "    'CM': 'Central Midfielder',\n",
        "    'RCM': 'Right Central Midfielder',\n",
        "    'LCM': 'Left Central Midfielder',\n",
        "    'CAM': 'Central Attacking Midfielder',\n",
        "    'LAM': 'Left Attacking Midfielder',\n",
        "    'RM': 'Right Midfielder',\n",
        "    'LM': 'Left Midfielder',\n",
        "    'RW': 'Right Winger',\n",
        "    'LW': 'Left Winger',\n",
        "    'RF': 'Right Forward',\n",
        "    'LF': 'Left Forward',\n",
        "    'RS': 'Right Striker',\n",
        "    'LS': 'Left Striker',\n",
        "    'CF': 'Center Forward',\n",
        "    'ST': 'Striker'\n",
        "}\n",
        "\n",
        "# Identify top players\n",
        "top_players = df[df['Overall'] > 85]\n",
        "\n",
        "# Loop through each unique numeric position\n",
        "for pos_num in top_players['Position'].unique():\n",
        "    subset = top_players[top_players['Position'] == pos_num]\n",
        "\n",
        "    # Get code and full name\n",
        "    pos_code = position_number_to_code.get(pos_num, \"Unknown Code\")\n",
        "    pos_name = position_code_to_name.get(pos_code, \"Unknown Position\")\n",
        "\n",
        "    print(f\"\\n🏅 Top Players in Position {pos_num}:\\n\", subset[['Name', 'Overall']])"
      ],
      "metadata": {
        "colab": {
          "base_uri": "https://localhost:8080/"
        },
        "collapsed": true,
        "id": "QCd4LGEdv2IK",
        "outputId": "6f6dda4c-dab8-4678-d257-142abb6a6ce3"
      },
      "execution_count": null,
      "outputs": [
        {
          "output_type": "stream",
          "name": "stdout",
          "text": [
            "\n",
            "🏅 Top Players in Position RF:\n",
            "           Name  Overall\n",
            "0     L. Messi     94.0\n",
            "50  D. Mertens     87.0\n",
            "\n",
            "🏅 Top Players in Position ST:\n",
            "                  Name  Overall\n",
            "1   Cristiano Ronaldo     94.0\n",
            "10     R. Lewandowski     90.0\n",
            "16            H. Kane     89.0\n",
            "23          S. Agüero     89.0\n",
            "36            G. Bale     88.0\n",
            "43          M. Icardi     87.0\n",
            "47          R. Lukaku     87.0\n",
            "48        C. Immobile     87.0\n",
            "\n",
            "🏅 Top Players in Position LW:\n",
            "           Name  Overall\n",
            "2    Neymar Jr     92.0\n",
            "29  L. Insigne     88.0\n",
            "30        Isco     88.0\n",
            "32    Coutinho     88.0\n",
            "55     L. Sané     86.0\n",
            "\n",
            "🏅 Top Players in Position GK:\n",
            "              Name  Overall\n",
            "3          De Gea     91.0\n",
            "9        J. Oblak     90.0\n",
            "19    T. Courtois     89.0\n",
            "22       M. Neuer     89.0\n",
            "37      H. Lloris     88.0\n",
            "40  S. Handanovi?     88.0\n",
            "41      G. Buffon     88.0\n",
            "46       K. Navas     87.0\n",
            "57        Ederson     86.0\n",
            "\n",
            "🏅 Top Players in Position RCM:\n",
            "             Name  Overall\n",
            "4   K. De Bruyne     91.0\n",
            "6      L. Modri?     91.0\n",
            "53    I. Rakiti?     87.0\n",
            "\n",
            "🏅 Top Players in Position LF:\n",
            "          Name  Overall\n",
            "5   E. Hazard     91.0\n",
            "15  P. Dybala     89.0\n",
            "76    Iniesta     86.0\n",
            "\n",
            "🏅 Top Players in Position RS:\n",
            "         Name  Overall\n",
            "7  L. Suárez     91.0\n",
            "\n",
            "🏅 Top Players in Position RCB:\n",
            "                Name  Overall\n",
            "8      Sergio Ramos     91.0\n",
            "39     Thiago Silva     88.0\n",
            "54            Piqué     87.0\n",
            "62        R. Varane     86.0\n",
            "70       L. Bonucci     86.0\n",
            "71  T. Alderweireld     86.0\n",
            "\n",
            "🏅 Top Players in Position LCM:\n",
            "            Name  Overall\n",
            "11     T. Kroos     90.0\n",
            "13  David Silva     90.0\n",
            "52    M. Hamík     87.0\n",
            "63  M. Verratti     86.0\n",
            "\n",
            "🏅 Top Players in Position CB:\n",
            "           Name  Overall\n",
            "12    D. Godín     90.0\n",
            "42   S. Umtiti     87.0\n",
            "73  M. Benatia     86.0\n",
            "\n",
            "🏅 Top Players in Position LDM:\n",
            "         Name  Overall\n",
            "14  N. Kanté     89.0\n",
            "\n",
            "🏅 Top Players in Position CAM:\n",
            "                Name  Overall\n",
            "17     A. Griezmann     89.0\n",
            "31       C. Eriksen     88.0\n",
            "61  Roberto Firmino     86.0\n",
            "66        T. Müller     86.0\n",
            "74          M. Özil     86.0\n",
            "\n",
            "🏅 Top Players in Position CDM:\n",
            "                Name  Overall\n",
            "20  Sergio Busquets     89.0\n",
            "27         Casemiro     88.0\n",
            "72        M. Pjani?     86.0\n",
            "75      Fernandinho     86.0\n",
            "\n",
            "🏅 Top Players in Position LS:\n",
            "           Name  Overall\n",
            "21   E. Cavani     89.0\n",
            "38  G. Higuaín     88.0\n",
            "\n",
            "🏅 Top Players in Position LCB:\n",
            "              Name  Overall\n",
            "24   G. Chiellini     89.0\n",
            "34     M. Hummels     88.0\n",
            "44   K. Koulibaly     87.0\n",
            "51  J. Vertonghen     87.0\n",
            "59    V. van Dijk     86.0\n",
            "\n",
            "🏅 Top Players in Position RM:\n",
            "          Name  Overall\n",
            "25  K. Mbappé     88.0\n",
            "26   M. Salah     88.0\n",
            "\n",
            "🏅 Top Players in Position LAM:\n",
            "             Name  Overall\n",
            "28  J. Rodríguez     88.0\n",
            "\n",
            "🏅 Top Players in Position LM:\n",
            "              Name  Overall\n",
            "33  P. Aubameyang     88.0\n",
            "58        S. Mané     86.0\n",
            "65  Douglas Costa     86.0\n",
            "68        M. Reus     86.0\n",
            "\n",
            "🏅 Top Players in Position LB:\n",
            "            Name  Overall\n",
            "35      Marcelo     88.0\n",
            "49   Jordi Alba     87.0\n",
            "64  Alex Sandro     86.0\n",
            "\n",
            "🏅 Top Players in Position RDM:\n",
            "         Name  Overall\n",
            "45  P. Pogba     87.0\n",
            "\n",
            "🏅 Top Players in Position RW:\n",
            "               Name  Overall\n",
            "56  Bernardo Silva     86.0\n",
            "60     R. Sterling     86.0\n",
            "\n",
            "🏅 Top Players in Position CM:\n",
            "       Name  Overall\n",
            "67  Thiago     86.0\n",
            "\n",
            "🏅 Top Players in Position RB:\n",
            "            Name  Overall\n",
            "69  Azpilicueta     86.0\n"
          ]
        }
      ]
    },
    {
      "cell_type": "markdown",
      "source": [
        "# Similarity-Based Player Recommender"
      ],
      "metadata": {
        "id": "5nlfAsow86XW"
      }
    },
    {
      "cell_type": "code",
      "source": [
        "from sklearn.metrics.pairwise import cosine_similarity\n",
        "\n",
        "df = pd.read_csv('processed_kl.csv')\n",
        "features = df.select_dtypes(include='number').drop(columns=['Overall'])  # Exclude label\n",
        "\n",
        "def recommend_similar_player(player_name):\n",
        "    if player_name not in df['Name'].values:\n",
        "        return \"Player not found!\"\n",
        "\n",
        "    index = df[df['Name'] == player_name].index[0]\n",
        "    similarities = cosine_similarity([features.iloc[index]], features)[0]\n",
        "    df['similarity'] = similarities\n",
        "    similar_players = df.sort_values('similarity', ascending=False)\n",
        "\n",
        "    return similar_players[['Name', 'similarity']].iloc[1:6]  # skip self\n",
        "\n",
        "# Example:\n",
        "print(recommend_similar_player('Cristiano Ronaldo'))\n"
      ],
      "metadata": {
        "colab": {
          "base_uri": "https://localhost:8080/"
        },
        "id": "jEO-paWUv3AP",
        "outputId": "a4b3ad4d-22ab-432c-99af-6831ec5c21e4"
      },
      "execution_count": null,
      "outputs": [
        {
          "output_type": "stream",
          "name": "stdout",
          "text": [
            "                Name  similarity\n",
            "153         Quaresma    0.999901\n",
            "224       Pepe Reina    0.998376\n",
            "109   Z. Ibrahimovi?    0.998249\n",
            "1302           Danny    0.997926\n",
            "411          Joaquín    0.997849\n"
          ]
        }
      ]
    },
    {
      "cell_type": "markdown",
      "source": [
        "# Optimal Team Builder (with Remove/Add Players Option)"
      ],
      "metadata": {
        "id": "3GWuT6VW_Yr6"
      }
    },
    {
      "cell_type": "code",
      "source": [
        "import pandas as pd\n",
        "\n",
        "df = pd.read_csv('processed_kl.csv')\n",
        "team_size = 11\n",
        "\n",
        "def build_optimal_team(remove_list=[], add_list=[]):\n",
        "    team = []\n",
        "\n",
        "    # Filter out removed players\n",
        "    available_players = df[~df['Name'].isin(remove_list)]\n",
        "\n",
        "    # Add custom players first\n",
        "    for player in add_list:\n",
        "        if player in df['Name'].values:\n",
        "            team.append(df[df['Name'] == player].iloc[0])\n",
        "\n",
        "    # Fill remaining slots with top-rated available players\n",
        "    remaining_slots = team_size - len(team)\n",
        "    top_players = available_players.sort_values('Overall', ascending=False)\n",
        "\n",
        "    for _, row in top_players.iterrows():\n",
        "        if len(team) >= team_size:\n",
        "            break\n",
        "        if row['Name'] not in [p['Name'] for p in team]:\n",
        "            team.append(row)\n",
        "\n",
        "    return pd.DataFrame(team)\n",
        "\n",
        "# Call the function\n",
        "print(\"\\n🏆 Optimal Team Formation:\")\n",
        "my_team = build_optimal_team()\n",
        "print(my_team[['Name', 'Overall', 'Position']])\n",
        "\n",
        "my_new_team = build_optimal_team(remove_list=[\"Cristiano Ronaldo\"], add_list=[\"Kylian Mbappé\"])\n",
        "print(\"\\nUpdated Team:\")\n",
        "print(my_new_team[['Name', 'Overall', 'Position']])\n"
      ],
      "metadata": {
        "colab": {
          "base_uri": "https://localhost:8080/"
        },
        "id": "0FVByVJ0QaRE",
        "outputId": "bb32221b-acf8-4e85-9c1b-e4dffe8fccba"
      },
      "execution_count": null,
      "outputs": [
        {
          "output_type": "stream",
          "name": "stdout",
          "text": [
            "\n",
            "🏆 Optimal Team Formation:\n",
            "                 Name  Overall Position\n",
            "1   Cristiano Ronaldo     94.0       ST\n",
            "0            L. Messi     94.0       RF\n",
            "2           Neymar Jr     92.0       LW\n",
            "7           L. Suárez     91.0       RS\n",
            "8        Sergio Ramos     91.0      RCB\n",
            "3              De Gea     91.0       GK\n",
            "6           L. Modri?     91.0      RCM\n",
            "5           E. Hazard     91.0       LF\n",
            "4        K. De Bruyne     91.0      RCM\n",
            "11           T. Kroos     90.0      LCM\n",
            "10     R. Lewandowski     90.0       ST\n",
            "\n",
            "Updated Team:\n",
            "              Name  Overall Position\n",
            "0         L. Messi     94.0       RF\n",
            "2        Neymar Jr     92.0       LW\n",
            "5        E. Hazard     91.0       LF\n",
            "8     Sergio Ramos     91.0      RCB\n",
            "3           De Gea     91.0       GK\n",
            "6        L. Modri?     91.0      RCM\n",
            "4     K. De Bruyne     91.0      RCM\n",
            "7        L. Suárez     91.0       RS\n",
            "10  R. Lewandowski     90.0       ST\n",
            "9         J. Oblak     90.0       GK\n",
            "11        T. Kroos     90.0      LCM\n"
          ]
        }
      ]
    }
  ]
}